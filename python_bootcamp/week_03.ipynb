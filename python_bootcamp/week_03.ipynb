{
 "cells": [
  {
   "cell_type": "code",
   "execution_count": 1,
   "metadata": {},
   "outputs": [
    {
     "name": "stdout",
     "output_type": "stream",
     "text": [
      "100 + your  100 = 200\n"
     ]
    }
   ],
   "source": [
    "ans = input(\"enter your num\")\n",
    "result = 100 + int(ans)\n",
    "print(\"{} + your  {} = {}\".format(100, ans, result))"
   ]
  },
  {
   "cell_type": "code",
   "execution_count": 6,
   "metadata": {},
   "outputs": [
    {
     "name": "stdout",
     "output_type": "stream",
     "text": [
      "enter the right words\n",
      "you see the program didnt break\n"
     ]
    }
   ],
   "source": [
    "\n",
    "try:\n",
    "    ans  = float(input(\"enter your number\"))\n",
    "    print(\"100 + {} = {}\".format(ans, 100 + ans))\n",
    "except: \n",
    "    print(\"enter the right words\")\n",
    "print(\"you see the program didnt break\")"
   ]
  },
  {
   "cell_type": "code",
   "execution_count": 8,
   "metadata": {},
   "outputs": [
    {
     "name": "stdout",
     "output_type": "stream",
     "text": [
      "<class 'bool'>\n"
     ]
    }
   ],
   "source": [
    "tru = \"Truth\"\n",
    "con = bool(tru)\n",
    "print(type(con))"
   ]
  },
  {
   "cell_type": "code",
   "execution_count": 9,
   "metadata": {},
   "outputs": [
    {
     "name": "stdout",
     "output_type": "stream",
     "text": [
      "12.0 + 8.0 = 20.0\n"
     ]
    }
   ],
   "source": [
    "num_a = float(input(\"input your number for the sum\"))\n",
    "num_b = float(input(\"input your second num\"))\n",
    "print(\"{} + {} = {}\".format(num_a, num_b, num_a + num_b))"
   ]
  },
  {
   "cell_type": "code",
   "execution_count": 10,
   "metadata": {},
   "outputs": [
    {
     "name": "stdout",
     "output_type": "stream",
     "text": [
      "2020 blue toyota mitsubushi\n"
     ]
    }
   ],
   "source": [
    "year =  input(\"input the year your car was made\")\n",
    "make = input(\"the make of yourcae\")\n",
    "model = input(\"the model of your car\")\n",
    "color = input(\"the color of your car\")\n",
    "\n",
    "print(\"{} {} {} {}\".format(year, color, make, model))\n"
   ]
  },
  {
   "cell_type": "code",
   "execution_count": 12,
   "metadata": {},
   "outputs": [],
   "source": [
    "x, y = 5, 10\n",
    "if x > y:\n",
    "    print(\"x is less than y\")"
   ]
  },
  {
   "cell_type": "code",
   "execution_count": 15,
   "metadata": {},
   "outputs": [
    {
     "name": "stdout",
     "output_type": "stream",
     "text": [
      "you are right sha\n"
     ]
    }
   ],
   "source": [
    "ans  = int(input(\"what is the sum of 5 + 5\"))\n",
    "if ans == 10:\n",
    "    print(\"you are right sha\")"
   ]
  },
  {
   "cell_type": "code",
   "execution_count": 18,
   "metadata": {},
   "outputs": [
    {
     "name": "stdout",
     "output_type": "stream",
     "text": [
      "the two numbers were the same\n"
     ]
    }
   ],
   "source": [
    "x,y,z = 5,10,5\n",
    "if x < y and x == z:\n",
    "    print(\"the two numbers were the same\")"
   ]
  },
  {
   "cell_type": "code",
   "execution_count": 19,
   "metadata": {},
   "outputs": [
    {
     "name": "stdout",
     "output_type": "stream",
     "text": [
      "one of these statement is true\n"
     ]
    }
   ],
   "source": [
    "x,y,z = 5,10,5\n",
    "if x < y or x != z:\n",
    "    print(\"one of these statement is true\")"
   ]
  },
  {
   "cell_type": "code",
   "execution_count": 25,
   "metadata": {},
   "outputs": [
    {
     "name": "stdout",
     "output_type": "stream",
     "text": [
      "they are the same statement\n"
     ]
    }
   ],
   "source": [
    "flag = False\n",
    "if flag == False:\n",
    "    print(\"they are the same statement\")\n",
    "    \n"
   ]
  },
  {
   "cell_type": "code",
   "execution_count": 27,
   "metadata": {},
   "outputs": [
    {
     "name": "stdout",
     "output_type": "stream",
     "text": [
      "basket has the chharacter b in it\n"
     ]
    }
   ],
   "source": [
    "word = \"basket\"\n",
    "if \"b\" in word:\n",
    "    print(\"{} has the chharacter {} in it\".format(word, \"b\"))"
   ]
  },
  {
   "cell_type": "code",
   "execution_count": 28,
   "metadata": {},
   "outputs": [
    {
     "name": "stdout",
     "output_type": "stream",
     "text": [
      "x not in basket\n"
     ]
    }
   ],
   "source": [
    "word = \"basket\"\n",
    "if \"x\" not in word:\n",
    "    print(\"{} not in {}\".format(\"x\", word))"
   ]
  },
  {
   "cell_type": "code",
   "execution_count": 30,
   "metadata": {},
   "outputs": [
    {
     "name": "stdout",
     "output_type": "stream",
     "text": [
      "wao! you guess right\n"
     ]
    }
   ],
   "source": [
    "word = input(\"write the correct sentence\")\n",
    "if \"es\" in word:\n",
    "    print(\"wao! you guess right\")"
   ]
  },
  {
   "cell_type": "code",
   "execution_count": 45,
   "metadata": {},
   "outputs": [
    {
     "name": "stdout",
     "output_type": "stream",
     "text": [
      "ing\n",
      "you are correct\n"
     ]
    }
   ],
   "source": [
    "word = input(\"input your word\")\n",
    "result = word[-3:]\n",
    "print(result)\n",
    "if \"ing\" == result:\n",
    "    print(\"you are correct\")"
   ]
  },
  {
   "cell_type": "code",
   "execution_count": 51,
   "metadata": {},
   "outputs": [
    {
     "name": "stdout",
     "output_type": "stream",
     "text": [
      "word word wao! both words are the same\n"
     ]
    }
   ],
   "source": [
    "a  = (input(\"your first sentence\")).lower()\n",
    "b = (input(\"your second sentence\")).lower()\n",
    "print(a,b, end=\" \")\n",
    "if a == b:\n",
    "    print(\"wao! both words are the same\")"
   ]
  },
  {
   "cell_type": "code",
   "execution_count": 54,
   "metadata": {},
   "outputs": [
    {
     "name": "stdout",
     "output_type": "stream",
     "text": [
      "4\n"
     ]
    }
   ],
   "source": [
    "number = int(input(\"enter your number\"))\n",
    "if number < 10:\n",
    "    print(number ** 2)"
   ]
  },
  {
   "cell_type": "code",
   "execution_count": 55,
   "metadata": {},
   "outputs": [
    {
     "name": "stdout",
     "output_type": "stream",
     "text": [
      "x is less than y\n"
     ]
    }
   ],
   "source": [
    "x,y = 5, 10\n",
    "if x > y :\n",
    "    print(\"x is greater y\")\n",
    "elif x < y:\n",
    "    print(\"x is less than y\")"
   ]
  },
  {
   "cell_type": "code",
   "execution_count": 57,
   "metadata": {},
   "outputs": [
    {
     "name": "stdout",
     "output_type": "stream",
     "text": [
      "x is equal y\n"
     ]
    }
   ],
   "source": [
    "x,y = 5, 10\n",
    "if x > y:\n",
    "    print(\"x is greater\")\n",
    "elif x + 10 < y:\n",
    "    print(\"x is greater\")\n",
    "elif x + 5 == y:\n",
    "    print(\"x is equal y\")"
   ]
  },
  {
   "cell_type": "code",
   "execution_count": 60,
   "metadata": {},
   "outputs": [
    {
     "name": "stdout",
     "output_type": "stream",
     "text": [
      "x is equal z\n"
     ]
    }
   ],
   "source": [
    "x,y,z = 5,10,5\n",
    "if x > y:\n",
    "    print(\"x is greater 5\")\n",
    "elif x <= y:\n",
    "    if x == z:\n",
    "        print(\"x is equal z\")\n",
    "    elif x != z:\n",
    "        print(\"x is not equal to z\")"
   ]
  },
  {
   "cell_type": "code",
   "execution_count": 66,
   "metadata": {},
   "outputs": [
    {
     "name": "stdout",
     "output_type": "stream",
     "text": [
      "x is less than z\n"
     ]
    }
   ],
   "source": [
    "x,y,z = 5,10,5\n",
    "if x < y:\n",
    "    print(\"x is less than z\")\n",
    "elif x ==z:\n",
    "    print(\" x is equal to z\")"
   ]
  },
  {
   "cell_type": "code",
   "execution_count": null,
   "metadata": {},
   "outputs": [],
   "source": []
  },
  {
   "cell_type": "code",
   "execution_count": 69,
   "metadata": {},
   "outputs": [
    {
     "name": "stdout",
     "output_type": "stream",
     "text": [
      "number is less than 100\n"
     ]
    }
   ],
   "source": [
    "# 454"
   ]
  },
  {
   "cell_type": "code",
   "execution_count": 71,
   "metadata": {},
   "outputs": [
    {
     "name": "stdout",
     "output_type": "stream",
     "text": [
      "lower\n"
     ]
    }
   ],
   "source": [
    "x,y = 5,10\n",
    "if x > y: \n",
    "    print(\"x is greater\")\n",
    "elif x < y:\n",
    "    print(\"lower\")"
   ]
  },
  {
   "cell_type": "code",
   "execution_count": 72,
   "metadata": {},
   "outputs": [
    {
     "name": "stdout",
     "output_type": "stream",
     "text": [
      "name is john\n"
     ]
    }
   ],
   "source": [
    "name = \"john\"\n",
    "if name == \"Jacob\":\n",
    "    print(\"name is Jacob\")\n",
    "else: \n",
    "    print(\"name is {}\".format(name))"
   ]
  },
  {
   "cell_type": "code",
   "execution_count": 75,
   "metadata": {},
   "outputs": [
    {
     "name": "stdout",
     "output_type": "stream",
     "text": [
      "name start with J\n"
     ]
    }
   ],
   "source": [
    "name = \"John\"\n",
    "if name[0] == \"A\":\n",
    "    print(\"name start with A\")\n",
    "elif name[0] == \"B\":\n",
    "    print(\"name start with B\")\n",
    "elif name[0] == \"K\":\n",
    "    print(\"name start with {}\".format(\"J\"))\n",
    "else:\n",
    "    print(\"name start with {}\".format(name[0]))"
   ]
  },
  {
   "cell_type": "code",
   "execution_count": 76,
   "metadata": {},
   "outputs": [
    {
     "name": "stdout",
     "output_type": "stream",
     "text": [
      "hello John\n"
     ]
    }
   ],
   "source": [
    "name = \"John\"\n",
    "if name == \"Jack\":\n",
    "    print(\"Hello Jack\")\n",
    "else:\n",
    "    print(\"hello John\")"
   ]
  },
  {
   "cell_type": "code",
   "execution_count": 81,
   "metadata": {},
   "outputs": [
    {
     "name": "stdout",
     "output_type": "stream",
     "text": [
      "Good evening, it is greater than 1700\n"
     ]
    }
   ],
   "source": [
    "time = int(input(\"input the military time\"))\n",
    "if time < 1200:\n",
    "    print(\"Good morning, it's less than 1200\")\n",
    "elif 1200 <= time <= 1700 :\n",
    "    print(\"Good afternoon it's between 1200 and 1700\")\n",
    "else:\n",
    "    print(\"Good evening, it is greater than 1700\")\n",
    "    "
   ]
  },
  {
   "cell_type": "code",
   "execution_count": 8,
   "metadata": {},
   "outputs": [
    {
     "name": "stdout",
     "output_type": "stream",
     "text": [
      "you have choosen add as the operation to perform\n",
      "you have choosen add as you operation, order of numbers matters\n",
      "your input is invalid really really\n"
     ]
    }
   ],
   "source": [
    "#Friday Project\n",
    "#Creating a Calculator \n",
    "operation =  input(\"would you like to perform Addition/Subtraction/Division/Multiplication\").lower()\n",
    "print(\"you have choosen {} as the operation to perform\".format(operation))\n",
    "# checkmate the number inserted\n",
    "if operation == \"subraction\" or \"division\":\n",
    "    print(\"you have choosen {} as you operation, order of numbers matters\".format(operation))\n",
    "num_1 = input(\"enter your first number\")\n",
    "num_2 = input(\"enter your second number\")\n",
    "try: \n",
    "    num_1, num_2 = float(num_1), float(num_2)\n",
    "    if operation == \"addition\":\n",
    "        result = num_1 + num_2\n",
    "        print(\"{} + {} = {}\".format(num_1, num_2, result))\n",
    "    elif operation == \"subtract\":\n",
    "        result = num_1 - num_2\n",
    "        print(\"{} - {} = {}\".format(num_1, num_2, result))\n",
    "    elif operation == \"division\":\n",
    "        result = num_1 / num_2\n",
    "        print(\"{} / {} = {}\".format(num_1, num_2, result))\n",
    "    elif operatio == \"multiplication\":\n",
    "        result = num_1 * num_2\n",
    "        print(\"{} * {} = {}\".format(num_1, num_2, result))\n",
    "    else:\n",
    "        print(\"{} operaion is not include\".format(operation))\n",
    "except: \n",
    "    print(\"your input is invalid really really\")\n",
    "   "
   ]
  },
  {
   "cell_type": "code",
   "execution_count": 24,
   "metadata": {},
   "outputs": [
    {
     "name": "stdout",
     "output_type": "stream",
     "text": [
      "you are a teeneager\n"
     ]
    }
   ],
   "source": [
    "# AGE GROUP\n",
    "age_group = int(input(\"please input your age group to tell your age class\"))\n",
    "if age_group <= 0 or age_group <= 12:\n",
    "    print(\"you are a kid\")\n",
    "elif age_group <= 13 or  age_group <= 19:\n",
    "    print(\"you are a teeneager\")\n",
    "elif age_group <= 20 or age_group <= 30:\n",
    "    print(\"you are a young adult\")\n",
    "elif age_group <= 31 or age_group <= 64:\n",
    "    print(\"you are an adult\")\n",
    "else:\n",
    "    print(\"you are senior!\")"
   ]
  },
  {
   "cell_type": "code",
   "execution_count": null,
   "metadata": {},
   "outputs": [],
   "source": []
  }
 ],
 "metadata": {
  "interpreter": {
   "hash": "81c64b7447d13ac7e71da4bf6c9f8743b11dd68420487cc994db1553f3e7d62a"
  },
  "kernelspec": {
   "display_name": "Python 3.9.7 ('base')",
   "language": "python",
   "name": "python3"
  },
  "language_info": {
   "codemirror_mode": {
    "name": "ipython",
    "version": 3
   },
   "file_extension": ".py",
   "mimetype": "text/x-python",
   "name": "python",
   "nbconvert_exporter": "python",
   "pygments_lexer": "ipython3",
   "version": "3.9.7"
  },
  "orig_nbformat": 4
 },
 "nbformat": 4,
 "nbformat_minor": 2
}
