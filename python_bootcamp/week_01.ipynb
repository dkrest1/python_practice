{
 "cells": [
  {
   "cell_type": "code",
   "execution_count": null,
   "metadata": {},
   "outputs": [],
   "source": [
    "# Guessing Game\n",
    "from random import randint\n",
    "number = randint(0,100)\n",
    "from IPython.display import clear_output\n",
    "guesses = 0\n",
    "guessed = False\n",
    "while not guessed:\n",
    "    guess = int(input(\"guess a number between 0 and 100\"))\n",
    "    guesses += 1\n",
    "    if guess == number:\n",
    "        print(\"wao!, congratulation you guessed right\")\n",
    "        print(\"it two you {} guesses\".format(guesses))\n",
    "    elif guess > number:\n",
    "        print(\"the {0} you entered is greater than {1}\".format(guess, number))\n",
    "        y = input(\"do you want to play again?\")\n",
    "        if y == \"no\":\n",
    "            break\n",
    "    elif guess < number:\n",
    "        print(\"the {0} you entered is lesser than {1}\".format(guess, number))\n",
    "        y = input(\"do you want to play again\")\n",
    "        if y == \"no\":\n",
    "            break\n",
    "    "
   ]
  },
  {
   "cell_type": "code",
   "execution_count": null,
   "metadata": {},
   "outputs": [],
   "source": []
  }
 ],
 "metadata": {
  "interpreter": {
   "hash": "81c64b7447d13ac7e71da4bf6c9f8743b11dd68420487cc994db1553f3e7d62a"
  },
  "kernelspec": {
   "display_name": "Python 3.9.7 ('base')",
   "language": "python",
   "name": "python3"
  },
  "language_info": {
   "codemirror_mode": {
    "name": "ipython",
    "version": 3
   },
   "file_extension": ".py",
   "mimetype": "text/x-python",
   "name": "python",
   "nbconvert_exporter": "python",
   "pygments_lexer": "ipython3",
   "version": "3.9.7"
  },
  "orig_nbformat": 4
 },
 "nbformat": 4,
 "nbformat_minor": 2
}
