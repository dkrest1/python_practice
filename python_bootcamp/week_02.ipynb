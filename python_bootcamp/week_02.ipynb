{
 "cells": [
  {
   "cell_type": "code",
   "execution_count": 2,
   "metadata": {},
   "outputs": [
    {
     "name": "stdout",
     "output_type": "stream",
     "text": [
      "hello world\n"
     ]
    }
   ],
   "source": [
    "# Comments and Basic Data Types\n",
    "print(\"hello world\") #file wait"
   ]
  },
  {
   "cell_type": "code",
   "execution_count": 15,
   "metadata": {},
   "outputs": [
    {
     "name": "stdout",
     "output_type": "stream",
     "text": [
      "**************************************************\n",
      "\t\tCoding Temple, Inc.\n",
      "\t\t283 Fracklin St.\n",
      "\t\tBoston, Ma\n",
      "==================================================\n",
      "\tProduct Name\tProduct Price\n",
      "\tBooks\t\t$49.95\n",
      "\tComputer\t$579.99\n",
      "\tMonitor\t\t$124.89\n",
      "==================================================\n",
      "\t\t\tTotal\n",
      "\t\t\t$754.83\n",
      "==================================================\n",
      "\t Thanks for shopping with us today!\n",
      "**************************************************\n"
     ]
    }
   ],
   "source": [
    "    #WEEK TWO PROJECT \n",
    "    #PROJECT TITLE: Printing Receipts\n",
    "    \n",
    "#declaring the variables\n",
    "company_name = \"coding temple, inc.\"\n",
    "company_address = \"283 Fracklin st.\"\n",
    "company_state = \"boston, ma\"\n",
    "product_1 = \"Books\"\n",
    "product_2 = \"Computer\"\n",
    "product_3 = \"Monitor\"\n",
    "product_price_1 = 49.95    \n",
    "product_price_2 = 579.99   \n",
    "product_price_3 = 124.89\n",
    "total = product_price_1 + product_price_2 + product_price_3\n",
    "\n",
    "#writing out the algorithms for the receipts\n",
    "\n",
    "#print the header\n",
    "print(\"*\" * 50)\n",
    "print(\"\\t\\t{}\".format(company_name.title()))\n",
    "print(\"\\t\\t{}\".format(company_address.title()))\n",
    "print(\"\\t\\t{}\".format(company_state.title()))\n",
    "#print the bottom header\n",
    "print(\"=\" * 50)\n",
    "print(\"\\t{0}\\t{1}\".format(\"Product Name\", \"Product Price\"))\n",
    "print(\"\\t{0}\\t\\t${1}\".format(product_1, product_price_1))\n",
    "print(\"\\t{0}\\t${1}\".format(product_2, product_price_2))\n",
    "print(\"\\t{0}\\t\\t${1}\".format(product_3, product_price_3))\n",
    "#print total\n",
    "print(\"=\" * 50)\n",
    "print(\"\\t\\t\\tTotal\")\n",
    "print(\"\\t\\t\\t${}\".format(total))\n",
    "#print the closing equal to\n",
    "print(\"=\" * 50)\n",
    "#print thank you message\n",
    "print(\"\\t Thanks for shopping with us today!\")\n",
    "#print the closing line\n",
    "print(\"*\" * 50)\n",
    "    "
   ]
  },
  {
   "cell_type": "code",
   "execution_count": 13,
   "metadata": {},
   "outputs": [
    {
     "name": "stdout",
     "output_type": "stream",
     "text": [
      "NISOT OLLEH 11\n"
     ]
    }
   ],
   "source": [
    "word = \"HELLO TOSIN\"\n",
    "length =  len(word)\n",
    "result = word[11::-1]\n",
    "print(result, length)"
   ]
  },
  {
   "cell_type": "code",
   "execution_count": null,
   "metadata": {},
   "outputs": [],
   "source": []
  }
 ],
 "metadata": {
  "interpreter": {
   "hash": "81c64b7447d13ac7e71da4bf6c9f8743b11dd68420487cc994db1553f3e7d62a"
  },
  "kernelspec": {
   "display_name": "Python 3.9.7 ('base')",
   "language": "python",
   "name": "python3"
  },
  "language_info": {
   "codemirror_mode": {
    "name": "ipython",
    "version": 3
   },
   "file_extension": ".py",
   "mimetype": "text/x-python",
   "name": "python",
   "nbconvert_exporter": "python",
   "pygments_lexer": "ipython3",
   "version": "3.9.7"
  },
  "orig_nbformat": 4
 },
 "nbformat": 4,
 "nbformat_minor": 2
}
