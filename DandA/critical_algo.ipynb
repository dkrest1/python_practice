{
 "cells": [
  {
   "cell_type": "code",
   "execution_count": 7,
   "metadata": {},
   "outputs": [
    {
     "name": "stdout",
     "output_type": "stream",
     "text": [
      "[[0, 0, 0], [0, 0, 1], [0, 1, 0], [1, 0, 0], [1, 1, 1]]\n"
     ]
    }
   ],
   "source": [
    "# 1.  List Compression i.e : sum of x+y+z in an array != n in an array . --list Easy\n",
    "x,y,z,n = 1,1,1,2\n",
    "\n",
    "def list_compression():\n",
    "    array = []\n",
    "    for i in range( x + 1 ):\n",
    "        for j in range( y + 1 ):\n",
    "            for k in range( z + 1 ):\n",
    "                if i + j + k != n:\n",
    "                    array.append([i,j,k])\n",
    "    print(array)\n",
    "    \n",
    "list_compression()\n",
    "                \n",
    "    "
   ]
  },
  {
   "cell_type": "code",
   "execution_count": null,
   "metadata": {},
   "outputs": [],
   "source": [
    "#2. find the runner up score # --list Easy\n",
    "n = int(input())\n",
    "arr = map(int, input().split())\n",
    "# solution 1\n",
    "# print(sorted(list(set((arr))))[-2])\n",
    "# solution 2\n",
    "list_arr = list(set(arr))\n",
    "max_val  = max(list_arr)\n",
    "while max_val == max(list_arr):\n",
    "    list_arr.remove(max_val)\n",
    "print(max(list_arr))\n",
    "    "
   ]
  },
  {
   "cell_type": "code",
   "execution_count": 11,
   "metadata": {},
   "outputs": [
    {
     "name": "stdout",
     "output_type": "stream",
     "text": [
      "[3, 4, 5, 6, 7, 1, 2]\n",
      " 3  4  5  6  7  1  2 "
     ]
    }
   ],
   "source": [
    "#3. program rotation for an array\n",
    "# method 1\n",
    "# d = rotate by 2\n",
    "# n the number of elements or item in an array\n",
    "d = 2 \n",
    "n = 7 \n",
    " \n",
    " \n",
    "def rotate(arr, d, n):\n",
    "    k = arr.index(d)\n",
    "    new_arr = []\n",
    "    new_arr = arr[k+1:] + arr[0:k+1]\n",
    "    return new_arr\n",
    "\n",
    "print(rotate([1,2,3,4,5,6,7], 2, 7))\n",
    "\n",
    "#method 2\n",
    "#left rotation method\n",
    "def leftRotate(arr, d, n):\n",
    "    d = d % n\n",
    "    g_c_d = gcd(d,n)\n",
    "    for i in range(g_c_d):\n",
    "        temp = arr[i]\n",
    "        j = i\n",
    "        while 1:\n",
    "            k = j + d\n",
    "            if k >= n:\n",
    "                k = k - n\n",
    "            if k == i:\n",
    "                break\n",
    "            arr[j] = arr[k]\n",
    "            j = k\n",
    "            arr[j] = temp\n",
    "            \n",
    "#UTILITY function\n",
    "#function to print an array\n",
    "def printArray(arr, size):\n",
    "    for i in range(size):\n",
    "        print(\" %d\" % arr[i], end = \" \")\n",
    "#function to get gcd of a and b\n",
    "def gcd(a,b):\n",
    "    if b == 0:\n",
    "        return a;\n",
    "    else:\n",
    "        return gcd(b, a %b )\n",
    "    \n",
    "    \n",
    "arr = [1,2,3,4,5,6,7]    \n",
    "leftRotate(arr,d,n)\n",
    "printArray(arr,n)            \n",
    "    \n",
    "\n",
    " "
   ]
  },
  {
   "cell_type": "code",
   "execution_count": null,
   "metadata": {},
   "outputs": [],
   "source": []
  }
 ],
 "metadata": {
  "interpreter": {
   "hash": "1baa965d5efe3ac65b79dfc60c0d706280b1da80fedb7760faf2759126c4f253"
  },
  "kernelspec": {
   "display_name": "Python 3.8.2 64-bit",
   "language": "python",
   "name": "python3"
  },
  "language_info": {
   "codemirror_mode": {
    "name": "ipython",
    "version": 3
   },
   "file_extension": ".py",
   "mimetype": "text/x-python",
   "name": "python",
   "nbconvert_exporter": "python",
   "pygments_lexer": "ipython3",
   "version": "3.9.7"
  },
  "orig_nbformat": 4
 },
 "nbformat": 4,
 "nbformat_minor": 2
}
