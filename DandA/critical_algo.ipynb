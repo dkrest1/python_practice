{
 "cells": [
  {
   "cell_type": "code",
   "execution_count": 7,
   "metadata": {},
   "outputs": [
    {
     "name": "stdout",
     "output_type": "stream",
     "text": [
      "[[0, 0, 0], [0, 0, 1], [0, 1, 0], [1, 0, 0], [1, 1, 1]]\n"
     ]
    }
   ],
   "source": [
    "# 1.  List Compression i.e : sum of x+y+z in an array != n in an array . --list Easy\n",
    "x,y,z,n = 1,1,1,2\n",
    "\n",
    "def list_compression():\n",
    "    array = []\n",
    "    for i in range( x + 1 ):\n",
    "        for j in range( y + 1 ):\n",
    "            for k in range( z + 1 ):\n",
    "                if i + j + k != n:\n",
    "                    array.append([i,j,k])\n",
    "    print(array)\n",
    "    \n",
    "list_compression()\n",
    "                \n",
    "    "
   ]
  },
  {
   "cell_type": "code",
   "execution_count": null,
   "metadata": {},
   "outputs": [],
   "source": [
    "#2. find the runner up score # --list Easy\n",
    "n = int(input())\n",
    "arr = map(int, input().split())\n",
    "# solution 1\n",
    "# print(sorted(list(set((arr))))[-2])\n",
    "# solution 2\n",
    "list_arr = list(set(arr))\n",
    "max_val  = max(list_arr)\n",
    "while max_val == max(list_arr):\n",
    "    list_arr.remove(max_val)\n",
    "print(max(list_arr))\n",
    "    "
   ]
  }
 ],
 "metadata": {
  "interpreter": {
   "hash": "1baa965d5efe3ac65b79dfc60c0d706280b1da80fedb7760faf2759126c4f253"
  },
  "kernelspec": {
   "display_name": "Python 3.8.2 64-bit",
   "language": "python",
   "name": "python3"
  },
  "language_info": {
   "codemirror_mode": {
    "name": "ipython",
    "version": 3
   },
   "file_extension": ".py",
   "mimetype": "text/x-python",
   "name": "python",
   "nbconvert_exporter": "python",
   "pygments_lexer": "ipython3",
   "version": "3.9.7"
  },
  "orig_nbformat": 4
 },
 "nbformat": 4,
 "nbformat_minor": 2
}
